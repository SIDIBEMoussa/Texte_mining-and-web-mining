{
  "nbformat": 4,
  "nbformat_minor": 0,
  "metadata": {
    "colab": {
      "name": "Exercice_Texte_mining.ipynb",
      "provenance": [],
      "authorship_tag": "ABX9TyNflG+zb7jyotnRtK5yZX8v",
      "include_colab_link": true
    },
    "kernelspec": {
      "name": "python3",
      "display_name": "Python 3"
    },
    "language_info": {
      "name": "python"
    }
  },
  "cells": [
    {
      "cell_type": "markdown",
      "metadata": {
        "id": "view-in-github",
        "colab_type": "text"
      },
      "source": [
        "<a href=\"https://colab.research.google.com/github/SIDIBEMoussa/Texte_mining-and-web-mining/blob/main/Exercice_Texte_mining.ipynb\" target=\"_parent\"><img src=\"https://colab.research.google.com/assets/colab-badge.svg\" alt=\"Open In Colab\"/></a>"
      ]
    },
    {
      "cell_type": "code",
      "metadata": {
        "id": "wgE1SGvxvgOy"
      },
      "source": [
        "BE=[[\"le maroc est qualifié\",\"sport\"],\n",
        "    [\"le brésil est qualifié\",\"sport\"],\n",
        "    [\"le PIB est en baisse\",\"eco\"],\n",
        "    [\"la bourse a fermé sur une baisse\",\"eco\"]]\n",
        "N=\"le portugal est qualifié\""
      ],
      "execution_count": 56,
      "outputs": []
    },
    {
      "cell_type": "code",
      "metadata": {
        "id": "otaLiC-6vvba"
      },
      "source": [
        "#création du VA\n",
        "VA=[]\n",
        "for i in range(len(BE)):\n",
        "    for j in range(len(BE[i][0].split())):\n",
        "        if not BE[i][0].split()[j] in VA:\n",
        "            VA.append(BE[i][0].split()[j])"
      ],
      "execution_count": 57,
      "outputs": []
    },
    {
      "cell_type": "code",
      "metadata": {
        "colab": {
          "base_uri": "https://localhost:8080/"
        },
        "id": "6AGScP3cv1Gm",
        "outputId": "adf81b61-9fda-4700-8e5f-315e925aca36"
      },
      "source": [
        "VA"
      ],
      "execution_count": 58,
      "outputs": [
        {
          "output_type": "execute_result",
          "data": {
            "text/plain": [
              "['le',\n",
              " 'maroc',\n",
              " 'est',\n",
              " 'qualifié',\n",
              " 'brésil',\n",
              " 'PIB',\n",
              " 'en',\n",
              " 'baisse',\n",
              " 'la',\n",
              " 'bourse',\n",
              " 'a',\n",
              " 'fermé',\n",
              " 'sur',\n",
              " 'une']"
            ]
          },
          "metadata": {
            "tags": []
          },
          "execution_count": 58
        }
      ]
    },
    {
      "cell_type": "code",
      "metadata": {
        "id": "xPIoBvOVwg8x"
      },
      "source": [
        "#convertir texte en vect num\n",
        "def txt2num(t,VA):\n",
        "    VN=[]\n",
        "    T=t.split()\n",
        "    for j in range(len(VA)):\n",
        "        cmpt=0\n",
        "        for i in range(len(T)):\n",
        "            if T[i]==VA[j]:\n",
        "                cmpt=cmpt+1\n",
        "        VN.append(cmpt)    \n",
        "    return VN"
      ],
      "execution_count": 59,
      "outputs": []
    },
    {
      "cell_type": "code",
      "metadata": {
        "id": "HUIOg3s9wlah"
      },
      "source": [
        "#Convertir la base et le nouveau en numérique\n",
        "BNum=[]\n",
        "for i in range(len(BE)):\n",
        "    BNum.append([txt2num(BE[i][0],VA),BE[i][1]])\n"
      ],
      "execution_count": 60,
      "outputs": []
    },
    {
      "cell_type": "code",
      "metadata": {
        "colab": {
          "base_uri": "https://localhost:8080/"
        },
        "id": "b7i7FsvP_ujK",
        "outputId": "a16de90c-8a8a-4ca2-d5b9-671d2fffac00"
      },
      "source": [
        "BNum"
      ],
      "execution_count": 61,
      "outputs": [
        {
          "output_type": "execute_result",
          "data": {
            "text/plain": [
              "[[[1, 1, 1, 1, 0, 0, 0, 0, 0, 0, 0, 0, 0, 0], 'sport'],\n",
              " [[1, 0, 1, 1, 1, 0, 0, 0, 0, 0, 0, 0, 0, 0], 'sport'],\n",
              " [[1, 0, 1, 0, 0, 1, 1, 1, 0, 0, 0, 0, 0, 0], 'eco'],\n",
              " [[0, 0, 0, 0, 0, 0, 0, 1, 1, 1, 1, 1, 1, 1], 'eco']]"
            ]
          },
          "metadata": {
            "tags": []
          },
          "execution_count": 61
        }
      ]
    },
    {
      "cell_type": "code",
      "metadata": {
        "colab": {
          "base_uri": "https://localhost:8080/"
        },
        "id": "ykh85D4YwuLI",
        "outputId": "f10cf6c9-11d7-4d48-cd4a-68c7c1debdc5"
      },
      "source": [
        "TNum=txt2num(N,VA)\n",
        "TNum"
      ],
      "execution_count": 62,
      "outputs": [
        {
          "output_type": "execute_result",
          "data": {
            "text/plain": [
              "[1, 0, 1, 1, 0, 0, 0, 0, 0, 0, 0, 0, 0, 0]"
            ]
          },
          "metadata": {
            "tags": []
          },
          "execution_count": 62
        }
      ]
    },
    {
      "cell_type": "code",
      "metadata": {
        "id": "gfAasDqQu-wq"
      },
      "source": [
        "#définir la distance\n",
        "from math import sqrt\n",
        "\n",
        "def euclidienne(X,Y):\n",
        "    d=0\n",
        "    for i in range(len(X)):\n",
        "        d=d+(X[i]-Y[i])**2        \n",
        "    return sqrt(d)\n"
      ],
      "execution_count": 63,
      "outputs": []
    },
    {
      "cell_type": "code",
      "metadata": {
        "colab": {
          "base_uri": "https://localhost:8080/"
        },
        "id": "NVjf_qv5DScL",
        "outputId": "142a8e1f-3ad2-4b39-ac32-c9ffb32a1329"
      },
      "source": [
        "!pip install simple_colors"
      ],
      "execution_count": 64,
      "outputs": [
        {
          "output_type": "stream",
          "text": [
            "Requirement already satisfied: simple_colors in /usr/local/lib/python3.7/dist-packages (0.1.5)\n"
          ],
          "name": "stdout"
        }
      ]
    },
    {
      "cell_type": "code",
      "metadata": {
        "id": "rSvmV5Dhrshk"
      },
      "source": [
        "#calculer les distances entre le nouveau et la base:\n",
        "import pandas as pd\n",
        "from simple_colors import *\n",
        "def distanceBass(BNum,TNum):\n",
        "  Label=[]\n",
        "  distanc=[]\n",
        "  for tab in BNum:\n",
        "    distanc.append(euclidienne(tab[0],TNum))\n",
        "    Label.append(tab[1])\n",
        "  df=pd.DataFrame({\"Distance\":distanc,\"Label\":Label})\n",
        "\n",
        "  indice_distance_min=list(df[\"Distance\"]).index(min(df.Distance))\n",
        "  class_tnum=df[\"Label\"][indice_distance_min]\n",
        "  print(green(\"La classe du nouveau texte est le :{}\".format(class_tnum),\"bold\"))\n",
        "  return df\n"
      ],
      "execution_count": 65,
      "outputs": []
    },
    {
      "cell_type": "code",
      "metadata": {
        "colab": {
          "base_uri": "https://localhost:8080/",
          "height": 190
        },
        "id": "CJq25hM1AiyU",
        "outputId": "3a0481fc-e5c2-4b00-f42f-f02bbe411ca2"
      },
      "source": [
        "df=distanceBass(BNum,TNum)\n",
        "df"
      ],
      "execution_count": 66,
      "outputs": [
        {
          "output_type": "stream",
          "text": [
            "\u001b[1;32mLa classe du nouveau texte est le :sport\u001b[0m\n"
          ],
          "name": "stdout"
        },
        {
          "output_type": "execute_result",
          "data": {
            "text/html": [
              "<div>\n",
              "<style scoped>\n",
              "    .dataframe tbody tr th:only-of-type {\n",
              "        vertical-align: middle;\n",
              "    }\n",
              "\n",
              "    .dataframe tbody tr th {\n",
              "        vertical-align: top;\n",
              "    }\n",
              "\n",
              "    .dataframe thead th {\n",
              "        text-align: right;\n",
              "    }\n",
              "</style>\n",
              "<table border=\"1\" class=\"dataframe\">\n",
              "  <thead>\n",
              "    <tr style=\"text-align: right;\">\n",
              "      <th></th>\n",
              "      <th>Distance</th>\n",
              "      <th>Label</th>\n",
              "    </tr>\n",
              "  </thead>\n",
              "  <tbody>\n",
              "    <tr>\n",
              "      <th>0</th>\n",
              "      <td>1.000000</td>\n",
              "      <td>sport</td>\n",
              "    </tr>\n",
              "    <tr>\n",
              "      <th>1</th>\n",
              "      <td>1.000000</td>\n",
              "      <td>sport</td>\n",
              "    </tr>\n",
              "    <tr>\n",
              "      <th>2</th>\n",
              "      <td>2.000000</td>\n",
              "      <td>eco</td>\n",
              "    </tr>\n",
              "    <tr>\n",
              "      <th>3</th>\n",
              "      <td>3.162278</td>\n",
              "      <td>eco</td>\n",
              "    </tr>\n",
              "  </tbody>\n",
              "</table>\n",
              "</div>"
            ],
            "text/plain": [
              "   Distance  Label\n",
              "0  1.000000  sport\n",
              "1  1.000000  sport\n",
              "2  2.000000    eco\n",
              "3  3.162278    eco"
            ]
          },
          "metadata": {
            "tags": []
          },
          "execution_count": 66
        }
      ]
    }
  ]
}