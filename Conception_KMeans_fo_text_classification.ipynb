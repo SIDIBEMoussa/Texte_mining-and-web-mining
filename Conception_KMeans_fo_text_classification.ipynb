{
  "nbformat": 4,
  "nbformat_minor": 0,
  "metadata": {
    "colab": {
      "name": "Conception_KMeans_fo_text_classification.ipynb",
      "provenance": [],
      "include_colab_link": true
    },
    "kernelspec": {
      "display_name": "Python 3",
      "language": "python",
      "name": "python3"
    },
    "language_info": {
      "codemirror_mode": {
        "name": "ipython",
        "version": 3
      },
      "file_extension": ".py",
      "mimetype": "text/x-python",
      "name": "python",
      "nbconvert_exporter": "python",
      "pygments_lexer": "ipython3",
      "version": "3.7.7"
    }
  },
  "cells": [
    {
      "cell_type": "markdown",
      "metadata": {
        "id": "view-in-github",
        "colab_type": "text"
      },
      "source": [
        "<a href=\"https://colab.research.google.com/github/SIDIBEMoussa/Texte_mining-and-web-mining/blob/main/Conception_KMeans_fo_text_classification.ipynb\" target=\"_parent\"><img src=\"https://colab.research.google.com/assets/colab-badge.svg\" alt=\"Open In Colab\"/></a>"
      ]
    },
    {
      "cell_type": "markdown",
      "metadata": {
        "id": "SOt5jfj1KWNy"
      },
      "source": [
        "<h2>Nom: SIDIBE</h2>\n",
        "<h1>Prénom:Moussa</h1>\n",
        "<h2>Filière: Data Science</h2>"
      ]
    },
    {
      "cell_type": "markdown",
      "metadata": {
        "id": "879LJrkdKWN4"
      },
      "source": [
        "<h1> <center>Examen de Web et Text Mining </center></h1>"
      ]
    },
    {
      "cell_type": "markdown",
      "metadata": {
        "id": "y1m4bKoeKWN5"
      },
      "source": [
        "<h2> 1) Créez une base de 15 textes à partir du web avec leurs classes respectives :</h2>\n",
        "<h2>(5 textes de sport, 5 textes d’économie, et 5 textes de politique) </h2>"
      ]
    },
    {
      "cell_type": "code",
      "metadata": {
        "id": "lYC4wrDiKWN6"
      },
      "source": [
        "BE=[[\"le club de football londonien est qualifié\",\"sport\"],\n",
        "    [\"le défenseur a marqué le dernier but\",\"sport\"],\n",
        "    [\"aucun club anglais n'a encaissé de but\",\"sport\"],\n",
        "    [\"le maroc est qualifié\",\"sport\"],\n",
        "    [\"le brésil est qualifié\",\"sport\"],\n",
        "    [\"le maroc a redressé son économie\",\"économie\"],\n",
        "    [\"la covid a touché l'économie marocaine\",\"économie\"],\n",
        "    [\"plusieurs entreprises sont en faillite\",\"économie\"],\n",
        "    [\"le PIB est en baisse\",\"économie\"],\n",
        "    [\"la bourse a fermé sur une baisse\",\"économie\"],\n",
        "    [\"le gouvernement envisage un nouveau confinement\",\"politique\"],\n",
        "    [\"le parlement a validé la loi 36.30\",\"politique\"],\n",
        "    [\"le gouvernement est parvenu à un accord\",\"politique\"],\n",
        "    [\"le Roi a promulgué la nouvelle loi\",\"politique\"],\n",
        "    [\"la convention internationnale\",\"politique\"]]"
      ],
      "execution_count": null,
      "outputs": []
    },
    {
      "cell_type": "markdown",
      "metadata": {
        "id": "dmS7DMa_KWN8"
      },
      "source": [
        "<h2> 2) Créez une fonction qui crée une liste L de tous les mots figurant dans cette base (sans répétition)</h2>"
      ]
    },
    {
      "cell_type": "code",
      "metadata": {
        "id": "otaLiC-6vvba"
      },
      "source": [
        "#création du VA\n",
        "def texte_to_list_unique(BE):\n",
        "    VA=[]\n",
        "    for i in range(len(BE)):\n",
        "        for j in range(len(BE[i][0].split())):\n",
        "            if not BE[i][0].split()[j] in VA:\n",
        "                VA.append(BE[i][0].split()[j])\n",
        "    return VA"
      ],
      "execution_count": null,
      "outputs": []
    },
    {
      "cell_type": "code",
      "metadata": {
        "id": "6AGScP3cv1Gm"
      },
      "source": [
        "L=texte_to_list_unique(BE)"
      ],
      "execution_count": null,
      "outputs": []
    },
    {
      "cell_type": "markdown",
      "metadata": {
        "id": "b11TWw0EKWN-"
      },
      "source": [
        "<h2> 3) Créez une première fonction T2V qui transforme chaque texte T en un vecteur d’occurrences des mots de la liste L</h2>"
      ]
    },
    {
      "cell_type": "code",
      "metadata": {
        "id": "xPIoBvOVwg8x"
      },
      "source": [
        "#convertir texte en vect num\n",
        "def T2V(t,L):\n",
        "    VN=[]\n",
        "    T=t\n",
        "    if type(T)!=list:\n",
        "        T=T.split()\n",
        "    for j in range(len(L)):\n",
        "        cmpt=0\n",
        "        for i in range(len(T)):\n",
        "            if T[i]==L[j]:\n",
        "                cmpt=cmpt+1\n",
        "        VN.append(cmpt)    \n",
        "    return VN"
      ],
      "execution_count": null,
      "outputs": []
    },
    {
      "cell_type": "markdown",
      "metadata": {
        "id": "hwPnt6ODKWOA"
      },
      "source": [
        "<h2> 4) Créez une liste de mots vides MV (pronoms, prépositions, conjonctions) et utilisez la pour réduite la dimension de L.</h2> <h2>Quel est le taux de réduction obtenu ?</h2>"
      ]
    },
    {
      "cell_type": "code",
      "metadata": {
        "id": "EbKHYqLHKWOB"
      },
      "source": [
        "MV=[\"a\",\"à\",\"au\",\"ce\",\"ces\",\"ça\",\"ceux\",\"celle\",\"du\",\"de\",\"des\",\"dans\",\"le\",\"la\",\"les\",\"et\",\"est\",\"en\",\"un\",\"une\",\"sur\",\"son\",\"sa\",\"se\",\"pour\",\"avec\"]"
      ],
      "execution_count": null,
      "outputs": []
    },
    {
      "cell_type": "code",
      "metadata": {
        "id": "CsjozdrhKWOB"
      },
      "source": [
        "def remove_in_mv(L,MV):\n",
        "    if type(L)!=list:\n",
        "        L=L.split()\n",
        "    total=len(L)\n",
        "    nbre_supprime=0\n",
        "    for word in MV:\n",
        "        if word in L:\n",
        "            L.remove(word)\n",
        "            nbre_supprime+=1\n",
        "    taux_reduction=nbre_supprime/total\n",
        "    print(\"Le taux de réduction après suppression des (pronoms, prépositions, conjonctions) est:{:.2%}\".format(taux_reduction))\n",
        "    return L"
      ],
      "execution_count": null,
      "outputs": []
    },
    {
      "cell_type": "code",
      "metadata": {
        "id": "HeHZrAqPKWOC",
        "outputId": "8ee57dde-5cf8-4752-f0ad-f8c30d3723cc"
      },
      "source": [
        "L=remove_in_mv(L,MV)"
      ],
      "execution_count": null,
      "outputs": [
        {
          "name": "stdout",
          "output_type": "stream",
          "text": [
            "Le taux de réduction après suppression des (pronoms, prépositions, conjonctions) est:20.37%\n"
          ]
        }
      ]
    },
    {
      "cell_type": "markdown",
      "metadata": {
        "id": "Yiv3PAppKWOE"
      },
      "source": [
        "<h2> 5) Créez une fonction ELIM qui élimine les mots de la liste L ayant figuré dans les 3 classes et garde uniquement ceux qui figurent dans une ou deux classes.</h2> <h2> Quel est le taux de réduction obtenu ? </h2>"
      ]
    },
    {
      "cell_type": "code",
      "metadata": {
        "id": "rEK7Pf_WKWOF"
      },
      "source": [
        "def ELIM(L):\n",
        "    if type(L)!=list:\n",
        "        L=L.split()\n",
        "    nbre_mot_supp=0\n",
        "    nbre_mot_total=len(L)\n",
        "    for word in L:\n",
        "        classe=[]\n",
        "        for i in range(len(BE)):\n",
        "            if word in BE[i][0] and BE[i][1] not in classe:\n",
        "                classe.append(BE[i][1])\n",
        "        if len(classe)>=3:\n",
        "            L.remove(word)\n",
        "            nbre_mot_supp+=1\n",
        "    taux_reduction=nbre_mot_supp/nbre_mot_total\n",
        "    print(\"Le taux de réduction après suppression des mots apparaissant dans plus de deux classes est:{:.2%}\".format(taux_reduction))       \n",
        "    return L"
      ],
      "execution_count": null,
      "outputs": []
    },
    {
      "cell_type": "code",
      "metadata": {
        "id": "XTRXk_YmKWOG",
        "outputId": "86e009b4-ac7c-40b0-9245-d194a3dce562"
      },
      "source": [
        "L=ELIM(L)"
      ],
      "execution_count": null,
      "outputs": [
        {
          "name": "stdout",
          "output_type": "stream",
          "text": [
            "Le taux de réduction après suppression des mots apparaissant dans plus de deux classes est:0.00%\n"
          ]
        }
      ]
    },
    {
      "cell_type": "markdown",
      "metadata": {
        "id": "Fa1mt5xYKWOG"
      },
      "source": [
        "<h2> 6) Créez une fonction DIST qui calcule la distance euclidienne entre deux vecteurs </h2>"
      ]
    },
    {
      "cell_type": "code",
      "metadata": {
        "id": "QjTo0kFhKWOH"
      },
      "source": [
        "from math import sqrt\n",
        "#Cette distance prend en compte la différence des vectuers X et Y\n",
        "def DIST(X,Y):\n",
        "    d=0\n",
        "    rang=max(len(X),len(Y))\n",
        "    for i in range(rang):\n",
        "        if i>len(Y)-1:\n",
        "            break\n",
        "        else:\n",
        "            d=d+(X[i]-Y[i])**2\n",
        "    return sqrt(d)"
      ],
      "execution_count": null,
      "outputs": []
    },
    {
      "cell_type": "code",
      "metadata": {
        "id": "_EqxBp1fKWOH"
      },
      "source": [
        "#calculer les distances entre le nouveau et la base:\n",
        "import pandas as pd\n",
        "from simple_colors import *\n",
        "def KNN(K,BNum,TNum):\n",
        "    Label=[]\n",
        "    distanc=[]\n",
        "    for tab in BNum:\n",
        "        distanc.append(DIST(tab[0],TNum))\n",
        "        Label.append(tab[1])\n",
        "        df=pd.DataFrame({\"Distance\":distanc,\"Label\":Label})\n",
        "        \n",
        "    df=df.sort_values(\"Distance\")\n",
        "    #Nous conservons juste les classes candidates\n",
        "    decision_fields=df[:K]\n",
        "    count_occu_class={classe:list(decision_fields.Label).count(classe) for classe in set(decision_fields.Label)}\n",
        "    print(count_occu_class)\n",
        "    class_predite=sorted(count_occu_class.items(), key=lambda t: t[1])[-1][0]\n",
        "    print(green(\"La classe du nouveau texte est le :{}\".format(class_predite),\"bold\"))\n",
        "    \n",
        "    return df\n"
      ],
      "execution_count": null,
      "outputs": []
    },
    {
      "cell_type": "code",
      "metadata": {
        "id": "HUIOg3s9wlah"
      },
      "source": [
        "#Convertir la base et le nouveau en numérique\n",
        "BNum=[]\n",
        "for i in range(len(BE)):\n",
        "    BNum.append([T2V(BE[i][0],L),BE[i][1]])"
      ],
      "execution_count": null,
      "outputs": []
    },
    {
      "cell_type": "markdown",
      "metadata": {
        "id": "hl88Gw71KWOI"
      },
      "source": [
        "<h2> 7) Proposez un texte pour lequel : (en utilisant T2V)  </h2>\n",
        "<h3> Parmi les 15 textes de la base, la DIST minimale correspond à la classe économie.</h3>"
      ]
    },
    {
      "cell_type": "code",
      "metadata": {
        "id": "CdYBe03GKWOI"
      },
      "source": [
        "T2=\"le PIB chute et la bourse baisse\""
      ],
      "execution_count": null,
      "outputs": []
    },
    {
      "cell_type": "code",
      "metadata": {
        "id": "7RE9UeAUKWOI"
      },
      "source": [
        "TNum=T2V(T2,L)"
      ],
      "execution_count": null,
      "outputs": []
    },
    {
      "cell_type": "code",
      "metadata": {
        "id": "_7YbtjxUKWOJ",
        "outputId": "cc7d2950-74f9-4c00-9c15-46eaf1edb589"
      },
      "source": [
        "df=KNN(3,BNum,TNum)"
      ],
      "execution_count": null,
      "outputs": [
        {
          "name": "stdout",
          "output_type": "stream",
          "text": [
            "{'économie': 2, 'sport': 1}\n",
            "\u001b[1;32mLa classe du nouveau texte est le :économie\u001b[0m\n"
          ]
        }
      ]
    },
    {
      "cell_type": "markdown",
      "metadata": {
        "id": "vZ7nWXqgKWOJ"
      },
      "source": [
        "<h2> 8) Proposez un texte pour lequel : (en utilisant T2V + MV + ELIM)</h2>\n",
        "<h3> Parmi les 15 textes de la base, la DIST minimale correspond à la classe sport. </h3>"
      ]
    },
    {
      "cell_type": "code",
      "metadata": {
        "id": "Qthl9i16KWOK"
      },
      "source": [
        "N=\"le défenseur français a marqué avec son club\""
      ],
      "execution_count": null,
      "outputs": []
    },
    {
      "cell_type": "code",
      "metadata": {
        "id": "N67hm711KWOK",
        "outputId": "46c719b5-ff0d-4c59-c136-6a1b95cb75c2"
      },
      "source": [
        "N=remove_in_mv(N,MV)\n",
        "N=ELIM(N)\n",
        "N=T2V(N,L)"
      ],
      "execution_count": null,
      "outputs": [
        {
          "name": "stdout",
          "output_type": "stream",
          "text": [
            "Le taux de réduction après suppression des (pronoms, prépositions, conjonctions) est:50.00%\n",
            "Le taux de réduction après suppression des mots apparaissant dans plus de deux classes est:0.00%\n"
          ]
        }
      ]
    },
    {
      "cell_type": "code",
      "metadata": {
        "id": "f5aPyRB7KWOK",
        "outputId": "6438c932-3206-4b14-97a1-c329088563f0"
      },
      "source": [
        "KNN(3,BNum,N)"
      ],
      "execution_count": null,
      "outputs": [
        {
          "name": "stdout",
          "output_type": "stream",
          "text": [
            "{'sport': 3}\n",
            "\u001b[1;32mLa classe du nouveau texte est le :sport\u001b[0m\n"
          ]
        },
        {
          "data": {
            "text/html": [
              "<div>\n",
              "<style scoped>\n",
              "    .dataframe tbody tr th:only-of-type {\n",
              "        vertical-align: middle;\n",
              "    }\n",
              "\n",
              "    .dataframe tbody tr th {\n",
              "        vertical-align: top;\n",
              "    }\n",
              "\n",
              "    .dataframe thead th {\n",
              "        text-align: right;\n",
              "    }\n",
              "</style>\n",
              "<table border=\"1\" class=\"dataframe\">\n",
              "  <thead>\n",
              "    <tr style=\"text-align: right;\">\n",
              "      <th></th>\n",
              "      <th>Distance</th>\n",
              "      <th>Label</th>\n",
              "    </tr>\n",
              "  </thead>\n",
              "  <tbody>\n",
              "    <tr>\n",
              "      <th>1</th>\n",
              "      <td>1.732051</td>\n",
              "      <td>sport</td>\n",
              "    </tr>\n",
              "    <tr>\n",
              "      <th>0</th>\n",
              "      <td>2.236068</td>\n",
              "      <td>sport</td>\n",
              "    </tr>\n",
              "    <tr>\n",
              "      <th>3</th>\n",
              "      <td>2.236068</td>\n",
              "      <td>sport</td>\n",
              "    </tr>\n",
              "    <tr>\n",
              "      <th>4</th>\n",
              "      <td>2.236068</td>\n",
              "      <td>sport</td>\n",
              "    </tr>\n",
              "    <tr>\n",
              "      <th>8</th>\n",
              "      <td>2.236068</td>\n",
              "      <td>économie</td>\n",
              "    </tr>\n",
              "    <tr>\n",
              "      <th>14</th>\n",
              "      <td>2.236068</td>\n",
              "      <td>politique</td>\n",
              "    </tr>\n",
              "    <tr>\n",
              "      <th>5</th>\n",
              "      <td>2.449490</td>\n",
              "      <td>économie</td>\n",
              "    </tr>\n",
              "    <tr>\n",
              "      <th>9</th>\n",
              "      <td>2.449490</td>\n",
              "      <td>économie</td>\n",
              "    </tr>\n",
              "    <tr>\n",
              "      <th>12</th>\n",
              "      <td>2.449490</td>\n",
              "      <td>politique</td>\n",
              "    </tr>\n",
              "    <tr>\n",
              "      <th>2</th>\n",
              "      <td>2.645751</td>\n",
              "      <td>sport</td>\n",
              "    </tr>\n",
              "    <tr>\n",
              "      <th>6</th>\n",
              "      <td>2.645751</td>\n",
              "      <td>économie</td>\n",
              "    </tr>\n",
              "    <tr>\n",
              "      <th>7</th>\n",
              "      <td>2.645751</td>\n",
              "      <td>économie</td>\n",
              "    </tr>\n",
              "    <tr>\n",
              "      <th>10</th>\n",
              "      <td>2.645751</td>\n",
              "      <td>politique</td>\n",
              "    </tr>\n",
              "    <tr>\n",
              "      <th>11</th>\n",
              "      <td>2.645751</td>\n",
              "      <td>politique</td>\n",
              "    </tr>\n",
              "    <tr>\n",
              "      <th>13</th>\n",
              "      <td>2.645751</td>\n",
              "      <td>politique</td>\n",
              "    </tr>\n",
              "  </tbody>\n",
              "</table>\n",
              "</div>"
            ],
            "text/plain": [
              "    Distance      Label\n",
              "1   1.732051      sport\n",
              "0   2.236068      sport\n",
              "3   2.236068      sport\n",
              "4   2.236068      sport\n",
              "8   2.236068   économie\n",
              "14  2.236068  politique\n",
              "5   2.449490   économie\n",
              "9   2.449490   économie\n",
              "12  2.449490  politique\n",
              "2   2.645751      sport\n",
              "6   2.645751   économie\n",
              "7   2.645751   économie\n",
              "10  2.645751  politique\n",
              "11  2.645751  politique\n",
              "13  2.645751  politique"
            ]
          },
          "execution_count": 86,
          "metadata": {},
          "output_type": "execute_result"
        }
      ]
    },
    {
      "cell_type": "markdown",
      "metadata": {
        "id": "MsitS4OQKWOL"
      },
      "source": [
        "<h2> 9) Proposez un texte pour lequel :</h2>\n",
        "<h3> La classe de la DIST minimale (en utilisant T2V) est différente de la classe de la DIST minimale (en utilisant T2V + MV + ELIM) </h3>"
      ]
    },
    {
      "cell_type": "code",
      "metadata": {
        "id": "Gkk67IEvKWOL"
      },
      "source": [
        "T1=\"convention du Roi a promulgué la nouvelle loi qualifié\""
      ],
      "execution_count": null,
      "outputs": []
    },
    {
      "cell_type": "code",
      "metadata": {
        "id": "oq6RiVwuKWOL",
        "outputId": "f559026b-60a6-4db9-d9a0-ddcaa6ee5158"
      },
      "source": [
        "N1=remove_in_mv(T1,MV)\n",
        "N1=ELIM(N1)\n",
        "N1=T2V(N1,L)"
      ],
      "execution_count": null,
      "outputs": [
        {
          "name": "stdout",
          "output_type": "stream",
          "text": [
            "Le taux de réduction après suppression des (pronoms, prépositions, conjonctions) est:33.33%\n",
            "Le taux de réduction après suppression des mots apparaissant dans plus de deux classes est:0.00%\n"
          ]
        }
      ]
    },
    {
      "cell_type": "code",
      "metadata": {
        "id": "7kUGFn09KWOL",
        "outputId": "d76d4693-5ee2-4840-ea97-4a32d91983ff"
      },
      "source": [
        "KNN(3,BNum,N1)"
      ],
      "execution_count": null,
      "outputs": [
        {
          "name": "stdout",
          "output_type": "stream",
          "text": [
            "{'politique': 1, 'sport': 2}\n",
            "\u001b[1;32mLa classe du nouveau texte est le :sport\u001b[0m\n"
          ]
        },
        {
          "data": {
            "text/html": [
              "<div>\n",
              "<style scoped>\n",
              "    .dataframe tbody tr th:only-of-type {\n",
              "        vertical-align: middle;\n",
              "    }\n",
              "\n",
              "    .dataframe tbody tr th {\n",
              "        vertical-align: top;\n",
              "    }\n",
              "\n",
              "    .dataframe thead th {\n",
              "        text-align: right;\n",
              "    }\n",
              "</style>\n",
              "<table border=\"1\" class=\"dataframe\">\n",
              "  <thead>\n",
              "    <tr style=\"text-align: right;\">\n",
              "      <th></th>\n",
              "      <th>Distance</th>\n",
              "      <th>Label</th>\n",
              "    </tr>\n",
              "  </thead>\n",
              "  <tbody>\n",
              "    <tr>\n",
              "      <th>13</th>\n",
              "      <td>1.414214</td>\n",
              "      <td>politique</td>\n",
              "    </tr>\n",
              "    <tr>\n",
              "      <th>3</th>\n",
              "      <td>2.449490</td>\n",
              "      <td>sport</td>\n",
              "    </tr>\n",
              "    <tr>\n",
              "      <th>4</th>\n",
              "      <td>2.449490</td>\n",
              "      <td>sport</td>\n",
              "    </tr>\n",
              "    <tr>\n",
              "      <th>14</th>\n",
              "      <td>2.449490</td>\n",
              "      <td>politique</td>\n",
              "    </tr>\n",
              "    <tr>\n",
              "      <th>0</th>\n",
              "      <td>2.828427</td>\n",
              "      <td>sport</td>\n",
              "    </tr>\n",
              "    <tr>\n",
              "      <th>8</th>\n",
              "      <td>2.828427</td>\n",
              "      <td>économie</td>\n",
              "    </tr>\n",
              "    <tr>\n",
              "      <th>11</th>\n",
              "      <td>2.828427</td>\n",
              "      <td>politique</td>\n",
              "    </tr>\n",
              "    <tr>\n",
              "      <th>5</th>\n",
              "      <td>3.000000</td>\n",
              "      <td>économie</td>\n",
              "    </tr>\n",
              "    <tr>\n",
              "      <th>9</th>\n",
              "      <td>3.000000</td>\n",
              "      <td>économie</td>\n",
              "    </tr>\n",
              "    <tr>\n",
              "      <th>12</th>\n",
              "      <td>3.000000</td>\n",
              "      <td>politique</td>\n",
              "    </tr>\n",
              "    <tr>\n",
              "      <th>1</th>\n",
              "      <td>3.162278</td>\n",
              "      <td>sport</td>\n",
              "    </tr>\n",
              "    <tr>\n",
              "      <th>6</th>\n",
              "      <td>3.162278</td>\n",
              "      <td>économie</td>\n",
              "    </tr>\n",
              "    <tr>\n",
              "      <th>7</th>\n",
              "      <td>3.162278</td>\n",
              "      <td>économie</td>\n",
              "    </tr>\n",
              "    <tr>\n",
              "      <th>10</th>\n",
              "      <td>3.162278</td>\n",
              "      <td>politique</td>\n",
              "    </tr>\n",
              "    <tr>\n",
              "      <th>2</th>\n",
              "      <td>3.464102</td>\n",
              "      <td>sport</td>\n",
              "    </tr>\n",
              "  </tbody>\n",
              "</table>\n",
              "</div>"
            ],
            "text/plain": [
              "    Distance      Label\n",
              "13  1.414214  politique\n",
              "3   2.449490      sport\n",
              "4   2.449490      sport\n",
              "14  2.449490  politique\n",
              "0   2.828427      sport\n",
              "8   2.828427   économie\n",
              "11  2.828427  politique\n",
              "5   3.000000   économie\n",
              "9   3.000000   économie\n",
              "12  3.000000  politique\n",
              "1   3.162278      sport\n",
              "6   3.162278   économie\n",
              "7   3.162278   économie\n",
              "10  3.162278  politique\n",
              "2   3.464102      sport"
            ]
          },
          "execution_count": 89,
          "metadata": {},
          "output_type": "execute_result"
        }
      ]
    },
    {
      "cell_type": "code",
      "metadata": {
        "id": "V43BG31RKWOM"
      },
      "source": [
        "N2=T2V(T1,L)"
      ],
      "execution_count": null,
      "outputs": []
    },
    {
      "cell_type": "code",
      "metadata": {
        "id": "Y-k0W5WDKWOM",
        "outputId": "4053a23f-d278-4c22-c326-aa436693b621"
      },
      "source": [
        "KNN(3,BNum,N2)"
      ],
      "execution_count": null,
      "outputs": [
        {
          "name": "stdout",
          "output_type": "stream",
          "text": [
            "{'politique': 1, 'sport': 2}\n",
            "\u001b[1;32mLa classe du nouveau texte est le :sport\u001b[0m\n"
          ]
        },
        {
          "data": {
            "text/html": [
              "<div>\n",
              "<style scoped>\n",
              "    .dataframe tbody tr th:only-of-type {\n",
              "        vertical-align: middle;\n",
              "    }\n",
              "\n",
              "    .dataframe tbody tr th {\n",
              "        vertical-align: top;\n",
              "    }\n",
              "\n",
              "    .dataframe thead th {\n",
              "        text-align: right;\n",
              "    }\n",
              "</style>\n",
              "<table border=\"1\" class=\"dataframe\">\n",
              "  <thead>\n",
              "    <tr style=\"text-align: right;\">\n",
              "      <th></th>\n",
              "      <th>Distance</th>\n",
              "      <th>Label</th>\n",
              "    </tr>\n",
              "  </thead>\n",
              "  <tbody>\n",
              "    <tr>\n",
              "      <th>13</th>\n",
              "      <td>1.414214</td>\n",
              "      <td>politique</td>\n",
              "    </tr>\n",
              "    <tr>\n",
              "      <th>3</th>\n",
              "      <td>2.449490</td>\n",
              "      <td>sport</td>\n",
              "    </tr>\n",
              "    <tr>\n",
              "      <th>4</th>\n",
              "      <td>2.449490</td>\n",
              "      <td>sport</td>\n",
              "    </tr>\n",
              "    <tr>\n",
              "      <th>14</th>\n",
              "      <td>2.449490</td>\n",
              "      <td>politique</td>\n",
              "    </tr>\n",
              "    <tr>\n",
              "      <th>0</th>\n",
              "      <td>2.828427</td>\n",
              "      <td>sport</td>\n",
              "    </tr>\n",
              "    <tr>\n",
              "      <th>8</th>\n",
              "      <td>2.828427</td>\n",
              "      <td>économie</td>\n",
              "    </tr>\n",
              "    <tr>\n",
              "      <th>11</th>\n",
              "      <td>2.828427</td>\n",
              "      <td>politique</td>\n",
              "    </tr>\n",
              "    <tr>\n",
              "      <th>5</th>\n",
              "      <td>3.000000</td>\n",
              "      <td>économie</td>\n",
              "    </tr>\n",
              "    <tr>\n",
              "      <th>9</th>\n",
              "      <td>3.000000</td>\n",
              "      <td>économie</td>\n",
              "    </tr>\n",
              "    <tr>\n",
              "      <th>12</th>\n",
              "      <td>3.000000</td>\n",
              "      <td>politique</td>\n",
              "    </tr>\n",
              "    <tr>\n",
              "      <th>1</th>\n",
              "      <td>3.162278</td>\n",
              "      <td>sport</td>\n",
              "    </tr>\n",
              "    <tr>\n",
              "      <th>6</th>\n",
              "      <td>3.162278</td>\n",
              "      <td>économie</td>\n",
              "    </tr>\n",
              "    <tr>\n",
              "      <th>7</th>\n",
              "      <td>3.162278</td>\n",
              "      <td>économie</td>\n",
              "    </tr>\n",
              "    <tr>\n",
              "      <th>10</th>\n",
              "      <td>3.162278</td>\n",
              "      <td>politique</td>\n",
              "    </tr>\n",
              "    <tr>\n",
              "      <th>2</th>\n",
              "      <td>3.464102</td>\n",
              "      <td>sport</td>\n",
              "    </tr>\n",
              "  </tbody>\n",
              "</table>\n",
              "</div>"
            ],
            "text/plain": [
              "    Distance      Label\n",
              "13  1.414214  politique\n",
              "3   2.449490      sport\n",
              "4   2.449490      sport\n",
              "14  2.449490  politique\n",
              "0   2.828427      sport\n",
              "8   2.828427   économie\n",
              "11  2.828427  politique\n",
              "5   3.000000   économie\n",
              "9   3.000000   économie\n",
              "12  3.000000  politique\n",
              "1   3.162278      sport\n",
              "6   3.162278   économie\n",
              "7   3.162278   économie\n",
              "10  3.162278  politique\n",
              "2   3.464102      sport"
            ]
          },
          "execution_count": 91,
          "metadata": {},
          "output_type": "execute_result"
        }
      ]
    },
    {
      "cell_type": "markdown",
      "metadata": {
        "id": "czhhdRjTKWOM"
      },
      "source": [
        "<h2> 10) Quel modèle d’apprentissage artificiel avez-vous utilisé dans les questions 7 à 9 ? </h2>\n",
        "<h3>Donnez 1 avantage et 1 inconvénient de ce modèle.</h3>"
      ]
    },
    {
      "cell_type": "markdown",
      "metadata": {
        "id": "gfAasDqQu-wq"
      },
      "source": [
        "Dans 7 à 9 j'ai utilisé la méthode du plus proche voisin avec le paramètre K permettant de spécifier le nombre de support sur\n",
        "lequel la décision sera prise et ce nombre doit être impair pour éviter la parité lors de la vote des classes.\n",
        "\n",
        "<h4>Avantages:</h4>\n",
        "Cet algorithme est plus facile à comprendre et à implementer\n",
        "<h4>Inconvénients:</h4>\n",
        "L'algorithme devient beaucoup plus lent à mesure que le nombre d'exemples d'apprentissage augmente et nécéssite.\n",
        "Cet algorithme nécéssite une base de donnée assez très conséquent pour permettre une précision assez conséquente. Nous avons expérimenté cet aspect notamment pour les nouveaux hors de la base de nouveaux. Par conséquent cet algorithme peut être sujet de surapprentissage très rapidement."
      ]
    }
  ]
}